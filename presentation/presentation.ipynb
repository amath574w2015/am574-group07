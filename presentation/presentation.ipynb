{
 "metadata": {
  "celltoolbar": "Slideshow",
  "kernelspec": {
   "display_name": "Python 2",
   "language": "python",
   "name": "python2"
  },
  "language_info": {
   "codemirror_mode": {
    "name": "ipython",
    "version": 2
   },
   "file_extension": ".py",
   "mimetype": "text/x-python",
   "name": "python",
   "nbconvert_exporter": "python",
   "pygments_lexer": "ipython2",
   "version": "2.7.9"
  },
  "name": ""
 },
 "nbformat": 3,
 "nbformat_minor": 0,
 "worksheets": [
  {
   "cells": [
    {
     "cell_type": "code",
     "collapsed": false,
     "input": [
      "%pylab inline"
     ],
     "language": "python",
     "metadata": {},
     "outputs": [],
     "prompt_number": null
    },
    {
     "cell_type": "heading",
     "level": 1,
     "metadata": {
      "slideshow": {
       "slide_type": "slide"
      }
     },
     "source": [
      "Traffic Models with Discontinuous and Non-convex Flux"
     ]
    },
    {
     "cell_type": "markdown",
     "metadata": {},
     "source": [
      "Outline:\n",
      "- Using mollifier method deal with the discontinuity of the flux.\n",
      "- Using convex hull method deal with the non-convexity of the flux.\n",
      "- The clustering beharvior the traffic flow with non-convex flux and uniformly spaced initial condition."
     ]
    },
    {
     "cell_type": "markdown",
     "metadata": {},
     "source": [
      "In this project, we focus on LWR model to simulate the density behavior of cars in the traffic flow:\n",
      "$$\\rho_t+f(\\rho)_x=0,$$\n",
      "where\n",
      "$$f(\\rho)=\\rho v(\\rho).$$\n",
      "Here $v(\\rho)$ is the velocity fucntion only depend on $\\rho$."
     ]
    },
    {
     "cell_type": "heading",
     "level": 2,
     "metadata": {
      "collapsed": false,
      "slideshow": {
       "slide_type": "slide"
      }
     },
     "source": [
      "Mollifier Method"
     ]
    },
    {
     "cell_type": "markdown",
     "metadata": {},
     "source": [
      "In this part, we consider the flux that modeling the situation on the free way. From the collecting data, our flux fucntion looks like,\n",
      "$$f(\\rho)=\\left\\{\\begin{array}{lll}\n",
      "g_f(\\rho),&\\text{if }0\\leq\\rho<\\rho_m,\\\\\n",
      "g_c(\\rho),&\\text{if }\\rho_m\\leq\\rho\\leq 1,\n",
      "\\end{array}\\right.$$\n",
      "\n",
      "here we restrict the flux function to be a piecewise linear function,\n",
      "\n",
      "$$g_f(\\rho)=\\rho,\\hskip16ptg_c(\\rho)=\\gamma(1-\\rho).$$\n",
      "\n",
      "For this problem we use $\\rho_m=0.5$ and $\\gamma=0.5$."
     ]
    },
    {
     "cell_type": "code",
     "collapsed": false,
     "input": [
      "rhom = 0.5\n",
      "gamma = 0.5\n",
      "def flux_freeway_origin(rho):\n",
      "    n = rho.size\n",
      "    f = zeros(n)\n",
      "    for i in range(n):\n",
      "        if rho[i] >= 0. and rho[i] < rhom:\n",
      "            f[i] = rho[i]\n",
      "        elif rho[i] >= rhom and rho[i] <= 1.:\n",
      "            f[i] = gamma*(1.-rho[i])\n",
      "        else:\n",
      "            print \"Invalid density value!\"\n",
      "    return f"
     ],
     "language": "python",
     "metadata": {},
     "outputs": [],
     "prompt_number": null
    },
    {
     "cell_type": "code",
     "collapsed": false,
     "input": [
      "rho1 = linspace(0.,rhom-0.01,50)\n",
      "rho2 = linspace(rhom,1.,51)\n",
      "plot(rho1,flux_freeway_origin(rho1),'b')\n",
      "plot(rho2,flux_freeway_origin(rho2),'b')\n",
      "plot([rhom,rhom],[rhom,gamma*(1.-rhom)],'--b')\n",
      "ylim(0.,0.5)\n",
      "xlabel('rho')\n",
      "ylabel('$f$')\n",
      "title('Original flux fucntion')"
     ],
     "language": "python",
     "metadata": {},
     "outputs": [],
     "prompt_number": null
    },
    {
     "cell_type": "markdown",
     "metadata": {},
     "source": [
      "The discontinuity can result the invalidation of the technique we learned from the class, since the mehod involves the deriavtive of the flux function. One method to redeem this is to use mollifier smooth the flux function. We use the mollifier as follows:\n",
      "$$\\eta(x)=\\left\\{\\begin{array}{lll}\n",
      "C\\exp\\left(\\frac{1}{x^2-1}\\right)&\\text{if }-1<x<1,\\\\\n",
      "0&\\text{otherwise},\\end{array}\\right.$$\n",
      "where $C$ is a constant, $C\\approx2.2522836.$\n",
      "\n",
      "And our modified the flux function will looks like,\n",
      "$$f_\\epsilon(\\rho)=\\rho+(\\gamma(1-\\rho)-\\rho)\\int_{\\rho_m-\\epsilon}^\\rho\\eta_\\epsilon(s-\\rho_m)ds,$$\n",
      "with $0<\\epsilon\\ll1$, and mollifier function $\\eta_\\epsilon(s)=\\frac{1}{\\epsilon}\\eta\\left(\\frac{s}{\\epsilon}\\right).$\n",
      "\n",
      "It can be shown that $\\eta_\\epsilon(x)\\rightarrow\\delta(x)$ as $\\epsilon\\rightarrow 0$, therefore $f_\\epsilon\\rightarrow f$ as $\\epsilon\\rightarrow 0$."
     ]
    },
    {
     "cell_type": "code",
     "collapsed": false,
     "input": [
      "def eta(x,eps):\n",
      "    C = 2.25228362104358101049978125556\n",
      "    eta = where(abs(x)<eps,C*exp(eps**2/(x**2-eps**2))/eps,0.)\n",
      "    return eta\n",
      "def flux_freeway_modified(rho,eps):\n",
      "    n = rho.size\n",
      "    f = zeros(n)\n",
      "    \n",
      "    for i in range(n):\n",
      "        N = 500*(int((rho[i]-rhom+eps)/eps) + 1) # mesh cell for integration\n",
      "        dx = (rho[i]-rhom+eps)/N # mesh size for integration\n",
      "        intl = 0.\n",
      "        for j in range(N):\n",
      "            intl = intl + dx*eta((j+0.5)*dx-eps,eps)\n",
      "        f[i] = rho[i] + (gamma*(1.-rho[i])-rho[i])*intl\n",
      "    return f"
     ],
     "language": "python",
     "metadata": {},
     "outputs": [],
     "prompt_number": null
    },
    {
     "cell_type": "code",
     "collapsed": false,
     "input": [
      "rho = linspace(0.,1.,101)\n",
      "hold\n",
      "plot(rho,flux_freeway_modified(rho,0.01),'m',label='$\\epsilon=0.01$')\n",
      "plot(rho,flux_freeway_modified(rho,0.1),'b',label='$\\epsilon=0.1$')\n",
      "ylim(0.,0.5)\n",
      "xlabel('$rho$')\n",
      "ylabel('$f_\\epsilon$')\n",
      "legend()"
     ],
     "language": "python",
     "metadata": {},
     "outputs": [],
     "prompt_number": null
    },
    {
     "cell_type": "heading",
     "level": 2,
     "metadata": {},
     "source": [
      "Exact Solution"
     ]
    },
    {
     "cell_type": "markdown",
     "metadata": {},
     "source": [
      "Based on Olenik's entropy condition, we will utilize the standard tools for non-convex flux function."
     ]
    },
    {
     "cell_type": "heading",
     "level": 2,
     "metadata": {
      "collapsed": true
     },
     "source": [
      "PDE Solver v.s. ODE solver"
     ]
    },
    {
     "cell_type": "heading",
     "level": 3,
     "metadata": {},
     "source": [
      "ODE Solver"
     ]
    },
    {
     "cell_type": "markdown",
     "metadata": {},
     "source": [
      "We use the car-following model to build a ODE solver:\n",
      "\\begin{align*}\n",
      "\\rho_{n+1}(t)&=\\frac{1}{x_{n}(t)-x_{n+1}(t)}\\\\\n",
      "v_{n+1}(t)&=V(\\rho_{n+1}(t))\\\\\n",
      "x_{n+1}(t+\\Delta t)&=x_{n+1}(t)+v_{n+1}(t)\\Delta t\n",
      "\\end{align*}\n",
      "\n",
      "Here $x_{n}(t)$, $x_{n+1}(t)$, $v_{n}(t)$ and $v_{n+1}(t)$ are the position and velocity of the $n$th and $(n+1)$th car at time $t$. And $\\rho_n{t}$ is the approximate density obtained from the car-following model."
     ]
    },
    {
     "cell_type": "code",
     "collapsed": true,
     "input": [
      "def initialization(N,rhol,rhor):\n",
      "    return linspace(0.,-(N-1.)/rhol,N)"
     ],
     "language": "python",
     "metadata": {},
     "outputs": [],
     "prompt_number": null
    },
    {
     "cell_type": "code",
     "collapsed": true,
     "input": [
      "def ode_solver_freeway(N,tfinal,output_number,rhol,rhor):\n",
      "    from copy import copy\n",
      "    Dt = tfinal/output_number\n",
      "    dt = 0.01\n",
      "    x = zeros((output_number+1,N))\n",
      "    rho = copy(x)\n",
      "    x[0] = initialization(N,rhol,rhor)\n",
      "    rho[0][1:N+1] = -1./diff(x[0])\n",
      "    rho[0][0] = rhor\n",
      "    m = int(Dt/dt)\n",
      "    xs ,rhos = copy(x[0]), copy(rho[0])\n",
      "    for i in range(1,output_number+1):\n",
      "        for j in range(m):\n",
      "            v = flux_freeway_origin(rhos)/rhos\n",
      "            xs = xs + v*dt\n",
      "            rhos[1:N+1] = -1./diff(xs)\n",
      "            rhos[0] = rhor\n",
      "        v = flux_freeway_origin(rhos)/rhos\n",
      "        xs = xs + v*(Dt-dt*m)\n",
      "        rhos[1:N+1] = -1./diff(xs)\n",
      "        rhos[0] = rhor\n",
      "        x[i], rho[i] = copy(xs), copy(rhos)\n",
      "    return x, rho"
     ],
     "language": "python",
     "metadata": {},
     "outputs": [],
     "prompt_number": null
    },
    {
     "cell_type": "code",
     "collapsed": false,
     "input": [
      "N = 80\n",
      "tfinal = 40.\n",
      "output_number = 80\n",
      "rhol = 0.9\n",
      "rhor = 0.2\n",
      "x, rho = ode_solver_freeway(N,tfinal,output_number,rhol,rhor)\n",
      "plot(x[10],rho[10])\n",
      "ylim(-0.1,1.1)"
     ],
     "language": "python",
     "metadata": {},
     "outputs": [],
     "prompt_number": null
    },
    {
     "cell_type": "heading",
     "level": 2,
     "metadata": {},
     "source": [
      "Clustering behavior for night driving model"
     ]
    },
    {
     "cell_type": "code",
     "collapsed": true,
     "input": [
      "def vel_night(rho):\n",
      "    rhoa, rhob = 0.1, 0.3\n",
      "    v0, vmax = 1., 3.\n",
      "    v1 = vmax/(1.-rhob)\n",
      "    c = (vmax-v0)/(rhob-rhoa)\n",
      "    n = rho.size\n",
      "    v = zeros(n)\n",
      "    for i in range(n):\n",
      "        if rho[i] >= 0. and rho[i] < rhoa:\n",
      "            v[i] = v0\n",
      "        elif rho[i] >=rhoa and rho[i] <= rhob:\n",
      "            v[i] = c*rho[i]\n",
      "        elif rho[i] > rhob and rho[i] <= 1.:\n",
      "            v[i] = v1*(1.-rho[i])\n",
      "        else:\n",
      "            print \"Invalid density value!\"\n",
      "    return v"
     ],
     "language": "python",
     "metadata": {},
     "outputs": [],
     "prompt_number": null
    },
    {
     "cell_type": "code",
     "collapsed": true,
     "input": [
      "def ode_solver_night(N,tfinal,output_number,rhol,rhor):\n",
      "    from copy import copy\n",
      "    Dt = tfinal/output_number\n",
      "    dt = 0.01\n",
      "    x = zeros((output_number+1,N))\n",
      "    rho = copy(x)\n",
      "    x[0] = initialization(N,rhol,rhor)\n",
      "    rho[0][1:N+1] = -1./diff(x[0])\n",
      "    rho[0][0] = rhor\n",
      "    m = int(Dt/dt)\n",
      "    xs ,rhos = copy(x[0]), copy(rho[0])\n",
      "    for i in range(1,output_number+1):\n",
      "        for j in range(m):\n",
      "            v = vel_night(rhos)\n",
      "            xs = xs + v*dt\n",
      "            rhos[1:N+1] = -1./diff(xs)\n",
      "            rhos[0] = rhor\n",
      "        v = vel_night(rhos)\n",
      "        xs = xs + v*(Dt-dt*m)\n",
      "        rhos[1:N+1] = -1./diff(xs)\n",
      "        rhos[0] = rhor\n",
      "        x[i], rho[i] = copy(xs), copy(rhos)\n",
      "    return x, rho"
     ],
     "language": "python",
     "metadata": {},
     "outputs": [],
     "prompt_number": null
    },
    {
     "cell_type": "code",
     "collapsed": false,
     "input": [
      "N = 48\n",
      "tfinal = 80\n",
      "output_number = 80\n",
      "rhol = 1./5\n",
      "rhor = 0.\n",
      "x, rho = ode_solver_night(N,tfinal,output_number,rhol,rhor)"
     ],
     "language": "python",
     "metadata": {},
     "outputs": [],
     "prompt_number": null
    },
    {
     "cell_type": "code",
     "collapsed": false,
     "input": [
      "for i in range(N):\n",
      "    plot(x.T[i],linspace(0.,tfinal,output_number+1),'b')\n",
      "axis([-200.,100.,0.,80.])"
     ],
     "language": "python",
     "metadata": {},
     "outputs": [],
     "prompt_number": null
    },
    {
     "cell_type": "markdown",
     "metadata": {},
     "source": [
      "We can also add some random term and make it more realistic"
     ]
    },
    {
     "cell_type": "code",
     "collapsed": true,
     "input": [
      "def ode_solver_night_rand(N,tfinal,output_number,rhol,rhor):\n",
      "    from copy import copy\n",
      "    from numpy.random import rand\n",
      "    A = 0.1\n",
      "    Dt = tfinal/output_number\n",
      "    dt = 0.01\n",
      "    x = zeros((output_number+1,N))\n",
      "    rho = copy(x)\n",
      "    x[0] = initialization(N,rhol,rhor)\n",
      "    rho[0][1:N+1] = -1./diff(x[0])\n",
      "    rho[0][0] = rhor\n",
      "    m = int(Dt/dt)\n",
      "    xs ,rhos = copy(x[0]), copy(rho[0])\n",
      "    for i in range(1,output_number+1):\n",
      "        for j in range(m):\n",
      "            v = vel_night(rhos) + A*(rand(N)-0.5*ones(N))\n",
      "            xs = xs + v*dt\n",
      "            rhos[1:N+1] = -1./diff(xs)\n",
      "            rhos[0] = rhor\n",
      "        v = vel_night(rhos) + A*(rand(N)-0.5*ones(N))\n",
      "        xs = xs + v*(Dt-dt*m)\n",
      "        rhos[1:N+1] = -1./diff(xs)\n",
      "        rhos[0] = rhor\n",
      "        x[i], rho[i] = copy(xs), copy(rhos)\n",
      "    return x, rho"
     ],
     "language": "python",
     "metadata": {},
     "outputs": [],
     "prompt_number": null
    },
    {
     "cell_type": "code",
     "collapsed": false,
     "input": [
      "N = 48\n",
      "tfinal = 80\n",
      "output_number = 80\n",
      "rhol = 1./5\n",
      "rhor = 0.\n",
      "x, rho = ode_solver_night_rand(N,tfinal,output_number,rhol,rhor)\n",
      "for i in range(N):\n",
      "    plot(x.T[i],linspace(0.,tfinal,output_number+1),'b')\n",
      "axis([-200.,100.,0.,80.])"
     ],
     "language": "python",
     "metadata": {},
     "outputs": [],
     "prompt_number": null
    },
    {
     "cell_type": "code",
     "collapsed": true,
     "input": [],
     "language": "python",
     "metadata": {},
     "outputs": [],
     "prompt_number": null
    }
   ],
   "metadata": {}
  }
 ]
}