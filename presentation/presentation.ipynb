{
 "metadata": {
  "celltoolbar": "Slideshow",
  "kernelspec": {
   "display_name": "Python 2",
   "language": "python",
   "name": "python2"
  },
  "language_info": {
   "codemirror_mode": {
    "name": "ipython",
    "version": 2
   },
   "file_extension": ".py",
   "mimetype": "text/x-python",
   "name": "python",
   "nbconvert_exporter": "python",
   "pygments_lexer": "ipython2",
   "version": "2.7.9"
  },
  "name": ""
 },
 "nbformat": 3,
 "nbformat_minor": 0,
 "worksheets": [
  {
   "cells": [
    {
     "cell_type": "code",
     "collapsed": false,
     "input": [
      "%pylab inline"
     ],
     "language": "python",
     "metadata": {
      "slideshow": {
       "slide_type": "skip"
      }
     },
     "outputs": [],
     "prompt_number": null
    },
    {
     "cell_type": "markdown",
     "metadata": {
      "slideshow": {
       "slide_type": "slide"
      }
     },
     "source": [
      "# Traffic Models with Discontinuous and Non-convex Flux\n",
      "------------------\n",
      "\n",
      "*Qi Guo*, *Peng Zheng*\n",
      "\n",
      "**University of Washington**"
     ]
    },
    {
     "cell_type": "markdown",
     "metadata": {
      "slideshow": {
       "slide_type": "slide"
      }
     },
     "source": [
      "## Overview\n",
      "\n",
      "+ **Freeway driving**\n",
      "    - Introduction\n",
      "    - Method of mollification\n",
      "    - Exact solution, CLAWPACK solution and car-following model\n",
      "\n",
      "\n",
      "+ **Night-time driving**\n",
      "    - Introduction\n",
      "    - Clustering beharvior"
     ]
    },
    {
     "cell_type": "markdown",
     "metadata": {
      "slideshow": {
       "slide_type": "slide"
      }
     },
     "source": [
      "## LWR Model\n",
      "\n",
      "In 1955, Lighthill, Whitham and Richards proposed the a model, now known as LWR model for traffic flow problem. This model is a macroscopic traffic flow model.\n",
      "\n",
      "$$\\rho_t+f(\\rho)_x=0,$$\n",
      "where\n",
      "$$f(\\rho)=\\rho v(\\rho).$$"
     ]
    },
    {
     "cell_type": "heading",
     "level": 2,
     "metadata": {
      "slideshow": {
       "slide_type": "slide"
      }
     },
     "source": [
      "Freeway Driving Model"
     ]
    },
    {
     "cell_type": "markdown",
     "metadata": {
      "slideshow": {
       "slide_type": "slide"
      }
     },
     "source": [
      "From the empirical data collected from freeway, the velocity can be modeled as:\n",
      "\n",
      "$$v(\\rho)=\\left\\{\\begin{array}{lll}\n",
      "1,&\\text{if }0\\leq\\rho<\\rho_m,\\\\\n",
      "\\gamma(\\frac{1}{\\rho}-1),&\\text{if }\\rho_m\\leq\\rho\\leq 1.\n",
      "\\end{array}\\right.$$\n",
      "\n",
      "Hence\n",
      "\n",
      "$$f(\\rho)=\\left\\{\\begin{array}{lll}\n",
      "\\rho,&\\text{if }0\\leq\\rho<\\rho_m,\\\\\n",
      "\\gamma(1-\\rho),&\\text{if }\\rho_m\\leq\\rho\\leq 1.\n",
      "\\end{array}\\right.$$"
     ]
    },
    {
     "cell_type": "markdown",
     "metadata": {
      "slideshow": {
       "slide_type": "subslide"
      }
     },
     "source": [
      "For this problem we use $\\rho_m=0.5$ and $\\gamma=0.5$."
     ]
    },
    {
     "cell_type": "code",
     "collapsed": false,
     "input": [
      "rhom = 0.5\n",
      "gamma = 0.5\n",
      "def flux_freeway_origin(rho):\n",
      "    n = rho.size\n",
      "    f = zeros(n)\n",
      "    for i in range(n):\n",
      "        if rho[i] >= 0. and rho[i] < rhom:\n",
      "            f[i] = rho[i]\n",
      "        elif rho[i] >= rhom and rho[i] <= 1.:\n",
      "            f[i] = gamma*(1.-rho[i])\n",
      "        else:\n",
      "            print \"Invalid density value!\"\n",
      "    return f"
     ],
     "language": "python",
     "metadata": {
      "slideshow": {
       "slide_type": "-"
      }
     },
     "outputs": [],
     "prompt_number": null
    },
    {
     "cell_type": "code",
     "collapsed": false,
     "input": [
      "rho1 = linspace(0.,rhom-0.01,50)\n",
      "rho2 = linspace(rhom,1.,51)\n",
      "plot(rho1,flux_freeway_origin(rho1),'b')\n",
      "plot(rho2,flux_freeway_origin(rho2),'b')\n",
      "plot([rhom,rhom],[rhom,gamma*(1.-rhom)],'--b')\n",
      "ylim(0.,0.5)\n",
      "xlabel('rho')\n",
      "ylabel('$f$')\n",
      "title('Original flux fucntion')"
     ],
     "language": "python",
     "metadata": {
      "slideshow": {
       "slide_type": "fragment"
      }
     },
     "outputs": [],
     "prompt_number": null
    },
    {
     "cell_type": "heading",
     "level": 3,
     "metadata": {
      "slideshow": {
       "slide_type": "slide"
      }
     },
     "source": [
      "Method of Mollification"
     ]
    },
    {
     "cell_type": "markdown",
     "metadata": {
      "slideshow": {
       "slide_type": "slide"
      }
     },
     "source": [
      "The discontinuity can result the invalidation of the technique we learned from the class, since the mehod involves the deriavtive of the flux function. One method to redeem this is to use mollifier smooth the flux function. We use the mollifier as follows:\n",
      "\n",
      "$$\\eta_\\epsilon(s)=\\frac{1}{\\epsilon}\\eta\\left(\\frac{s}{\\epsilon}\\right),$$\n",
      "\n",
      "where\n",
      "\n",
      "$$\\eta(x)=\\left\\{\\begin{array}{lll}\n",
      "C\\exp\\left(\\frac{1}{x^2-1}\\right)&\\text{if }-1< x < 1,\\\\\n",
      "0&\\text{otherwise},\\end{array}\\right.$$\n",
      "\n",
      "Here $C$ is a constant, $C\\approx2.2522836.$\n",
      "\n",
      "The modified flux function is the convolution of the mollifier and original function:\n",
      "\n",
      "$$f_\\epsilon=\\eta_\\epsilon\\ast f,$$\n",
      "\n",
      "so\n",
      "\n",
      "$$f_\\epsilon(\\rho)=\\rho+(\\gamma(1-\\rho)-\\rho)\\int_{\\rho_m-\\epsilon}^\\rho\\eta_\\epsilon(s-\\rho_m)ds,$$\n",
      "\n",
      "with $0<\\epsilon\\ll1$.\n",
      "\n",
      "It has been proven that, if $\\eta_\\epsilon(x)\\rightarrow\\delta(x)$ as $\\epsilon\\rightarrow 0$, then $f_\\epsilon\\rightarrow f$."
     ]
    },
    {
     "cell_type": "markdown",
     "metadata": {
      "slideshow": {
       "slide_type": "subslide"
      }
     },
     "source": [
      "In the project, we select $\\epsilon=0.01$."
     ]
    },
    {
     "cell_type": "code",
     "collapsed": false,
     "input": [
      "def eta(x,eps):\n",
      "    C = 2.25228362104358101049978125556\n",
      "    eta = where(abs(x)<eps,C*exp(eps**2/(x**2-eps**2))/eps,0.)\n",
      "    return eta\n",
      "def flux_freeway_modified(rho,eps):\n",
      "    n = rho.size\n",
      "    f = zeros(n)\n",
      "    \n",
      "    for i in range(n):\n",
      "        N = 500*(int((rho[i]-rhom+eps)/eps) + 1) # mesh cell for integration\n",
      "        dx = (rho[i]-rhom+eps)/N # mesh size for integration\n",
      "        intl = 0.\n",
      "        for j in range(N):\n",
      "            intl = intl + dx*eta((j+0.5)*dx-eps,eps)\n",
      "        f[i] = rho[i] + (gamma*(1.-rho[i])-rho[i])*intl\n",
      "    return f"
     ],
     "language": "python",
     "metadata": {},
     "outputs": [],
     "prompt_number": null
    },
    {
     "cell_type": "code",
     "collapsed": false,
     "input": [
      "rho = linspace(0.,1.,101)\n",
      "hold\n",
      "plot(rho,flux_freeway_modified(rho,0.01),'m',label='$\\epsilon=0.01$')\n",
      "plot(rho,flux_freeway_modified(rho,0.1),'b',label='$\\epsilon=0.1$')\n",
      "ylim(0.,0.5)\n",
      "xlabel('$rho$')\n",
      "ylabel('$f_\\epsilon$')\n",
      "legend()"
     ],
     "language": "python",
     "metadata": {
      "slideshow": {
       "slide_type": "fragment"
      }
     },
     "outputs": [],
     "prompt_number": null
    },
    {
     "cell_type": "heading",
     "level": 2,
     "metadata": {
      "slideshow": {
       "slide_type": "slide"
      }
     },
     "source": [
      "Exact Solution, Numerical Solution and Car-Following Model"
     ]
    },
    {
     "cell_type": "markdown",
     "metadata": {
      "slideshow": {
       "slide_type": "slide"
      }
     },
     "source": [
      "### Overview\n",
      "\n",
      "#### Explicit Method\n",
      "\n",
      "To determine the weak solution to a non-convex scalar conservation law, in this problem, we will use Olenik entropy condition:\n",
      "\n",
      "$$\n",
      "\\frac{f(\\rho)-f(\\rho_l)}{\\rho-\\rho_l}\\geq \\frac{f(\\rho_l)-f(\\rho_r)}{\\rho_l-\\rho_r}\\geq \\frac{f(\\rho)-f(\\rho_r)}{\\rho-\\rho_r}\n",
      "$$\n",
      "\n",
      "for all $\\rho$ between $\\rho_l$ and $\\rho_r$.\n",
      "\n",
      "The entropy-satisfying solution to this problem can be determined form the graph of $f_\\epsilon(\\rho)$. This method is called convex hull."
     ]
    },
    {
     "cell_type": "markdown",
     "metadata": {
      "slideshow": {
       "slide_type": "subslide"
      }
     },
     "source": [
      "#### Numerical Method\n",
      "\n",
      "We use the 2nd order Lax-Wendroff method with Van Leer limiter."
     ]
    },
    {
     "cell_type": "code",
     "collapsed": true,
     "input": [
      "import glob\n",
      "from matplotlib import image\n",
      "from clawpack.visclaw.JSAnimation import IPython_display\n",
      "from matplotlib import animation\n",
      "\n",
      "def init():\n",
      "    im.set_data(image.imread(filenames[0]))\n",
      "    return im,\n",
      "\n",
      "def animate(i):\n",
      "    image_i=image.imread(filenames[i])\n",
      "    im.set_data(image_i)\n",
      "    return im,"
     ],
     "language": "python",
     "metadata": {
      "slideshow": {
       "slide_type": "skip"
      }
     },
     "outputs": [],
     "prompt_number": null
    },
    {
     "cell_type": "markdown",
     "metadata": {
      "slideshow": {
       "slide_type": "subslide"
      }
     },
     "source": [
      "#### Car-Following Model\n",
      "\n",
      "We only focus on each car $x_n(t)$.\n",
      "\n",
      "The density between two car is the reciprocal of the distance:\n",
      "$$\\rho_{n+1}(t)=\\frac{1}{x_{n}(t)-x_{n+1}(t)};$$\n",
      "\n",
      "The velocity of each car only depends on the distance:\n",
      "$$v_{n}(t)=v(\\rho_{n}(t));$$\n",
      "\n",
      "The position is updated by:\n",
      "$$x_{n}(t+\\Delta t)=x_{n}(t)+v_{n}(t)\\Delta t.$$\n",
      "\n",
      "\n",
      "Based on these assumptions, we can build up our own ODE Solver."
     ]
    },
    {
     "cell_type": "code",
     "collapsed": false,
     "input": [
      "# ODE Solver Initialization\n",
      "\n",
      "def initialization(N,rhol,rhor):\n",
      "    return linspace(0.,-(N-1.)/rhol,N)"
     ],
     "language": "python",
     "metadata": {},
     "outputs": [],
     "prompt_number": null
    },
    {
     "cell_type": "code",
     "collapsed": false,
     "input": [
      "# Main Function of ODE Solver\n",
      "\n",
      "def ode_solver_freeway(N,tfinal,output_number,rhol,rhor):\n",
      "    from copy import copy\n",
      "    Dt = tfinal/output_number\n",
      "    dt = min(0.01,Dt)\n",
      "    x = zeros((output_number+1,N))\n",
      "    rho = copy(x)\n",
      "    x[0] = initialization(N,rhol,rhor)\n",
      "    rho[0][1:N+1] = -1./diff(x[0])\n",
      "    rho[0][0] = rhor\n",
      "    m = int(Dt/dt)\n",
      "    xs ,rhos = copy(x[0]), copy(rho[0])\n",
      "    for i in range(1,output_number+1):\n",
      "        for j in range(m):\n",
      "            v = flux_freeway_origin(rhos)/rhos\n",
      "            xs = xs + v*dt\n",
      "            rhos[1:N+1] = -1./diff(xs)\n",
      "            rhos[0] = rhor\n",
      "        v = flux_freeway_origin(rhos)/rhos\n",
      "        xs = xs + v*(Dt-dt*m)\n",
      "        rhos[1:N+1] = -1./diff(xs)\n",
      "        rhos[0] = rhor\n",
      "        x[i], rho[i] = copy(xs), copy(rhos)\n",
      "    return x, rho"
     ],
     "language": "python",
     "metadata": {},
     "outputs": [],
     "prompt_number": null
    },
    {
     "cell_type": "code",
     "collapsed": false,
     "input": [
      "N = 80\n",
      "tfinal = 40.\n",
      "output_number = 80"
     ],
     "language": "python",
     "metadata": {},
     "outputs": [],
     "prompt_number": null
    },
    {
     "cell_type": "markdown",
     "metadata": {
      "slideshow": {
       "slide_type": "slide"
      }
     },
     "source": [
      "### Case 1: $\\rho_r<\\rho_m<\\rho_l$\n",
      "\n",
      "#### Exact Solution\n",
      "We construct the smallest convex hull of the set $\\{(\\rho,y):\\rho_r<\\rho<\\rho_l,\\ \\text{and}\\ y\\leq f_\\epsilon(\\rho)\\}$. When $\\epsilon\\rightarrow 0$, the rarefaction wave flattens out and reduces to the constant state $\\rho_m$. The limiting solution is:\n",
      "\n",
      "$$\\rho(x,t)=\\left\\{\n",
      "  \\begin{array}{l l}\n",
      "   \\rho_l \\ \\ \\ \\text{if}\\ \\  x < st,\\\\\n",
      "   \\rho_m \\ \\ \\ \\text{if}\\ \\ st \\leq x \\leq  t,\\\\\n",
      "   \\rho_r \\ \\ \\ \\text{if}\\ \\ x > t,\n",
      "\\end{array} \\right.$$\n",
      "  \n",
      "  where $s=\\frac{f_\\epsilon(\\rho_\\star)-f_\\epsilon(\\rho_l)}{\\rho_\\star-\\rho_l}=f'_\\epsilon(\\rho_{\\star})$, and $\\rho\\in(\\rho_m-\\epsilon,\\rho_m)$, since the shock and characteristic speeds are equal.\n",
      "  \n",
      "  In the numerical simulation, the initial condition we are using is:\n",
      "  \n",
      "  $$\\rho_l=0.9, \\rho_r=0.2.$$"
     ]
    },
    {
     "cell_type": "heading",
     "level": 4,
     "metadata": {
      "slideshow": {
       "slide_type": "subslide"
      }
     },
     "source": [
      "PDE Solver"
     ]
    },
    {
     "cell_type": "code",
     "collapsed": false,
     "input": [
      "%%system\n",
      "\n",
      "make data ql=0.9 qr=0.2\n",
      "make .plots"
     ],
     "language": "python",
     "metadata": {
      "slideshow": {
       "slide_type": "skip"
      }
     },
     "outputs": [],
     "prompt_number": null
    },
    {
     "cell_type": "code",
     "collapsed": false,
     "input": [
      "figno = 1\n",
      "fname = '_plots/*fig' + str(figno) + '.png'\n",
      "filenames=sorted(glob.glob(fname))\n",
      "\n",
      "fig = plt.figure(figsize=(10, 6),dpi=80)\n",
      "ax = fig.add_axes([0, 0, 1, 1])\n",
      "ax.axis('off')\n",
      "im = plt.imshow(image.imread(filenames[0]))\n",
      "\n",
      "\n",
      "animation.FuncAnimation(fig, animate, init_func=init,\n",
      "                              frames=len(filenames), interval=200, blit=True)"
     ],
     "language": "python",
     "metadata": {},
     "outputs": [],
     "prompt_number": null
    },
    {
     "cell_type": "heading",
     "level": 4,
     "metadata": {
      "slideshow": {
       "slide_type": "subslide"
      }
     },
     "source": [
      "ODE Solver"
     ]
    },
    {
     "cell_type": "code",
     "collapsed": false,
     "input": [
      "rhol = 0.9\n",
      "rhor = 0.2\n",
      "x, rho = ode_solver_freeway(N,tfinal,output_number,rhol,rhor)"
     ],
     "language": "python",
     "metadata": {
      "slideshow": {
       "slide_type": "skip"
      }
     },
     "outputs": [],
     "prompt_number": null
    },
    {
     "cell_type": "code",
     "collapsed": false,
     "input": [
      "%%system\n",
      "mkdir _plots_ode_freeway1"
     ],
     "language": "python",
     "metadata": {
      "slideshow": {
       "slide_type": "skip"
      }
     },
     "outputs": [],
     "prompt_number": null
    },
    {
     "cell_type": "code",
     "collapsed": false,
     "input": [
      "Dt = tfinal/output_number\n",
      "for i in range(output_number+1):\n",
      "    clf()\n",
      "    figure(figsize=(12,5))\n",
      "    subplot(1,2,1)\n",
      "    for j in range(0,N,4):\n",
      "        plot(x.T[j][0:i+1],linspace(0.,Dt*i,i+1),'b');\n",
      "    plot(x[i][0:N:4],Dt*i*ones(N/4),'ob')\n",
      "    plot([-N/rhol-10,tfinal+10],[Dt*i,Dt*i],'--r');\n",
      "    axis([-N/rhol-10,tfinal+10,0,tfinal+1])\n",
      "    title('Trajectory of Cars')\n",
      "    xlabel('$x$')\n",
      "    ylabel('$t$')\n",
      "    \n",
      "    subplot(1,2,2)\n",
      "    plot(hstack((tfinal+10,x[i],-N/rhol-10)),hstack((rhor,rho[i],rhol)));\n",
      "    axis([-N/rhol-10,tfinal+10,-0.1,1.1])\n",
      "    title('Density')\n",
      "    xlabel('$x$')\n",
      "    ylabel('rho')\n",
      "    \n",
      "    fname = '_plots_ode_freeway1/frame%04i'%i + 'fig1' + '.png'\n",
      "    savefig(fname)"
     ],
     "language": "python",
     "metadata": {
      "slideshow": {
       "slide_type": "skip"
      }
     },
     "outputs": [],
     "prompt_number": null
    },
    {
     "cell_type": "code",
     "collapsed": false,
     "input": [
      "figno = 1\n",
      "fname = '_plots_ode_freeway1/*fig' + str(figno) + '.png'\n",
      "filenames=sorted(glob.glob(fname))\n",
      "\n",
      "fig = plt.figure(figsize=(12, 8),dpi=80)\n",
      "ax = fig.add_axes([0, 0, 1, 1])\n",
      "ax.axis('off')\n",
      "im = plt.imshow(image.imread(filenames[0]))\n",
      "\n",
      "\n",
      "animation.FuncAnimation(fig, animate, init_func=init,\n",
      "                              frames=len(filenames), interval=200, blit=True)"
     ],
     "language": "python",
     "metadata": {},
     "outputs": [],
     "prompt_number": null
    },
    {
     "cell_type": "markdown",
     "metadata": {
      "slideshow": {
       "slide_type": "slide"
      }
     },
     "source": [
      "### Case 2: $\\gamma/(1+\\gamma)<\\rho_l<\\rho_m<\\rho_r$\n",
      "\n",
      "#### Exact Solution\n",
      "We construct the smallest convex hull of the set $\\{(\\rho,y):\\rho_l<\\rho<\\rho_r,\\ \\text{and}\\ y\\geq f_\\epsilon(\\rho)\\}$. When $\\epsilon\\rightarrow 0$, the rarefaction wave flattens out and reduces to the constant state $\\rho_m$. The limiting solution is:\n",
      "\n",
      "$$\\rho(x,t)=\\left\\{\n",
      "  \\begin{array}{l l}\n",
      "   \\rho_l \\ \\ \\ \\text{if}\\ \\  x < st,\\\\\n",
      "   \\rho_m \\ \\ \\ \\text{if}\\ \\ st \\leq x \\leq -\\gamma t,\\\\\n",
      "   \\rho_r \\ \\ \\ \\text{if}\\ \\ x > -\\gamma t,\n",
      "\\end{array} \\right.$$\n",
      "  \n",
      "  where $s=\\frac{f_\\epsilon(\\rho_\\star)-f_\\epsilon(\\rho_l)}{\\rho_\\star-\\rho_l}=f'_\\epsilon(\\rho_{\\star})$, and $\\rho\\in(\\rho_m-\\epsilon,\\rho_m)$.\n",
      "  \n",
      "  In the numerical simulation, the initial condition we are using is:\n",
      "  \n",
      "  $$\\rho_l=0.4, \\rho_r=0.9.$$"
     ]
    },
    {
     "cell_type": "heading",
     "level": 4,
     "metadata": {
      "slideshow": {
       "slide_type": "subslide"
      }
     },
     "source": [
      "PDE Solver"
     ]
    },
    {
     "cell_type": "code",
     "collapsed": false,
     "input": [
      "%%system\n",
      "\n",
      "make data ql=0.4 qr=0.9\n",
      "make .plots"
     ],
     "language": "python",
     "metadata": {
      "slideshow": {
       "slide_type": "skip"
      }
     },
     "outputs": [],
     "prompt_number": null
    },
    {
     "cell_type": "code",
     "collapsed": false,
     "input": [
      "figno = 1\n",
      "fname = '_plots/*fig' + str(figno) + '.png'\n",
      "filenames=sorted(glob.glob(fname))\n",
      "\n",
      "fig = plt.figure(figsize=(10, 6),dpi=80)\n",
      "ax = fig.add_axes([0, 0, 1, 1])\n",
      "ax.axis('off')\n",
      "im = plt.imshow(image.imread(filenames[0]))\n",
      "\n",
      "\n",
      "animation.FuncAnimation(fig, animate, init_func=init,\n",
      "                              frames=len(filenames), interval=200, blit=True)"
     ],
     "language": "python",
     "metadata": {},
     "outputs": [],
     "prompt_number": null
    },
    {
     "cell_type": "heading",
     "level": 4,
     "metadata": {
      "slideshow": {
       "slide_type": "subslide"
      }
     },
     "source": [
      "ODE Solver"
     ]
    },
    {
     "cell_type": "code",
     "collapsed": true,
     "input": [
      "rhol = 0.4\n",
      "rhor = 0.9\n",
      "x, rho = ode_solver_freeway(N,tfinal,output_number,rhol,rhor)"
     ],
     "language": "python",
     "metadata": {
      "slideshow": {
       "slide_type": "skip"
      }
     },
     "outputs": [],
     "prompt_number": null
    },
    {
     "cell_type": "code",
     "collapsed": false,
     "input": [
      "%%system\n",
      "mkdir _plots_ode_freeway2"
     ],
     "language": "python",
     "metadata": {
      "slideshow": {
       "slide_type": "skip"
      }
     },
     "outputs": [],
     "prompt_number": null
    },
    {
     "cell_type": "code",
     "collapsed": false,
     "input": [
      "Dt = tfinal/output_number\n",
      "for i in range(output_number+1):\n",
      "    clf()\n",
      "    figure(figsize=(12,5))\n",
      "    subplot(1,2,1)\n",
      "    for j in range(0,N,4):\n",
      "        plot(x.T[j][0:i+1],linspace(0.,Dt*i,i+1),'b');\n",
      "    plot(x[i][0:N:4],Dt*i*ones(N/4),'ob')\n",
      "    plot([-N/rhol-10,tfinal+10],[Dt*i,Dt*i],'--r');\n",
      "    axis([-N/rhol-10,tfinal+10,0,tfinal+1])\n",
      "    title('Trajectory of Cars')\n",
      "    xlabel('$x$')\n",
      "    ylabel('$t$')\n",
      "    \n",
      "    subplot(1,2,2)\n",
      "    plot(hstack((tfinal+10,x[i],-N/rhol-10)),hstack((rhor,rho[i],rhol)));\n",
      "    axis([-N/rhol-10,tfinal+10,-0.1,1.1])\n",
      "    title('Density')\n",
      "    xlabel('$x$')\n",
      "    ylabel('rho')\n",
      "    fname = '_plots_ode_freeway2/frame%04i'%i + 'fig1' + '.png'\n",
      "    savefig(fname)"
     ],
     "language": "python",
     "metadata": {
      "slideshow": {
       "slide_type": "skip"
      }
     },
     "outputs": [],
     "prompt_number": null
    },
    {
     "cell_type": "code",
     "collapsed": false,
     "input": [
      "figno = 1\n",
      "fname = '_plots_ode_freeway2/*fig' + str(figno) + '.png'\n",
      "filenames=sorted(glob.glob(fname))\n",
      "\n",
      "fig = plt.figure(figsize=(12, 8),dpi=80)\n",
      "ax = fig.add_axes([0, 0, 1, 1])\n",
      "ax.axis('off')\n",
      "im = plt.imshow(image.imread(filenames[0]))\n",
      "\n",
      "\n",
      "animation.FuncAnimation(fig, animate, init_func=init,\n",
      "                              frames=len(filenames), interval=200, blit=True)"
     ],
     "language": "python",
     "metadata": {},
     "outputs": [],
     "prompt_number": null
    },
    {
     "cell_type": "markdown",
     "metadata": {
      "slideshow": {
       "slide_type": "slide"
      }
     },
     "source": [
      "### Case 3: $\\rho_l<\\rho_m<\\rho_r$ and $\\gamma/(1+\\gamma)\\geq \\rho_l$\n",
      "\n",
      "We construct the same convex hull as Case 2. There is only a shock in this solution.\n",
      "\n",
      "$$\\rho(x,t)=\\left\\{\n",
      "  \\begin{array}{l l}\n",
      "   \\rho_l \\ \\ \\ \\text{if}\\ \\  x < st,\\\\\n",
      "   \\rho_r \\ \\ \\ \\text{if}\\ \\ x > st,\n",
      "\\end{array} \\right.$$\n",
      "  \n",
      "  where $s=\\frac{f_\\epsilon(\\rho_r)-f_\\epsilon(\\rho_l)}{\\rho_r-\\rho_l}.$\n",
      "  \n",
      " In the numerical simulation, the initial condition we are using is:\n",
      "  \n",
      "  $$\\rho_l=0.2, \\rho_r=0.9.$$"
     ]
    },
    {
     "cell_type": "heading",
     "level": 4,
     "metadata": {
      "slideshow": {
       "slide_type": "subslide"
      }
     },
     "source": [
      "PDE Solver"
     ]
    },
    {
     "cell_type": "code",
     "collapsed": false,
     "input": [
      "%%system\n",
      "\n",
      "make data ql=0.2 qr=0.9\n",
      "make .plots"
     ],
     "language": "python",
     "metadata": {
      "slideshow": {
       "slide_type": "skip"
      }
     },
     "outputs": [],
     "prompt_number": null
    },
    {
     "cell_type": "code",
     "collapsed": false,
     "input": [
      "figno = 1\n",
      "fname = '_plots/*fig' + str(figno) + '.png'\n",
      "filenames=sorted(glob.glob(fname))\n",
      "\n",
      "fig = plt.figure(figsize=(10, 6),dpi=80)\n",
      "ax = fig.add_axes([0, 0, 1, 1])\n",
      "ax.axis('off')\n",
      "im = plt.imshow(image.imread(filenames[0]))\n",
      "\n",
      "\n",
      "animation.FuncAnimation(fig, animate, init_func=init,\n",
      "                              frames=len(filenames), interval=200, blit=True)"
     ],
     "language": "python",
     "metadata": {},
     "outputs": [],
     "prompt_number": null
    },
    {
     "cell_type": "heading",
     "level": 4,
     "metadata": {
      "slideshow": {
       "slide_type": "subslide"
      }
     },
     "source": [
      "ODE Solver"
     ]
    },
    {
     "cell_type": "code",
     "collapsed": true,
     "input": [
      "rhol = 0.2\n",
      "rhor = 0.9\n",
      "x, rho = ode_solver_freeway(N,tfinal,output_number,rhol,rhor)"
     ],
     "language": "python",
     "metadata": {
      "slideshow": {
       "slide_type": "skip"
      }
     },
     "outputs": [],
     "prompt_number": null
    },
    {
     "cell_type": "code",
     "collapsed": false,
     "input": [
      "%%system\n",
      "mkdir _plots_ode_freeway3"
     ],
     "language": "python",
     "metadata": {
      "slideshow": {
       "slide_type": "skip"
      }
     },
     "outputs": [],
     "prompt_number": null
    },
    {
     "cell_type": "code",
     "collapsed": false,
     "input": [
      "Dt = tfinal/output_number\n",
      "for i in range(output_number+1):\n",
      "    clf()\n",
      "    figure(figsize=(12,5))\n",
      "    subplot(1,2,1)\n",
      "    for j in range(0,N,4):\n",
      "        plot(x.T[j][0:i+1],linspace(0.,Dt*i,i+1),'b');\n",
      "    plot(x[i][0:N:4],Dt*i*ones(N/4),'ob')\n",
      "    plot([-N/rhol-10,tfinal+10],[Dt*i,Dt*i],'--r');\n",
      "    axis([-N/rhol-10,tfinal+10,0,tfinal+1])\n",
      "    title('Trajectory of Cars')\n",
      "    xlabel('$x$')\n",
      "    ylabel('$t$')\n",
      "    \n",
      "    subplot(1,2,2)\n",
      "    plot(hstack((tfinal+10,x[i],-N/rhol-10)),hstack((rhor,rho[i],rhol)));\n",
      "    axis([-N/rhol-10,tfinal+10,-0.1,1.1])\n",
      "    title('Density')\n",
      "    xlabel('$x$')\n",
      "    ylabel('rho')\n",
      "    fname = '_plots_ode_freeway3/frame%04i'%i + 'fig1' + '.png'\n",
      "    savefig(fname)"
     ],
     "language": "python",
     "metadata": {
      "slideshow": {
       "slide_type": "skip"
      }
     },
     "outputs": [],
     "prompt_number": null
    },
    {
     "cell_type": "code",
     "collapsed": false,
     "input": [
      "figno = 1\n",
      "fname = '_plots_ode_freeway3/*fig' + str(figno) + '.png'\n",
      "filenames=sorted(glob.glob(fname))\n",
      "\n",
      "fig = plt.figure(figsize=(12, 8),dpi=80)\n",
      "ax = fig.add_axes([0, 0, 1, 1])\n",
      "ax.axis('off')\n",
      "im = plt.imshow(image.imread(filenames[0]))\n",
      "\n",
      "\n",
      "animation.FuncAnimation(fig, animate, init_func=init,\n",
      "                              frames=len(filenames), interval=200, blit=True)"
     ],
     "language": "python",
     "metadata": {
      "slideshow": {
       "slide_type": "-"
      }
     },
     "outputs": [],
     "prompt_number": null
    },
    {
     "cell_type": "heading",
     "level": 2,
     "metadata": {
      "slideshow": {
       "slide_type": "slide"
      }
     },
     "source": [
      "Clustering of Night-time Driving Model"
     ]
    },
    {
     "cell_type": "heading",
     "level": 2,
     "metadata": {
      "slideshow": {
       "slide_type": "slide"
      }
     },
     "source": [
      "Introduction"
     ]
    },
    {
     "cell_type": "markdown",
     "metadata": {
      "slideshow": {
       "slide_type": "-"
      }
     },
     "source": [
      "When driving at night on an unfamiliar mountain road, facing with the empty road will cause the speed limitation by the uncertainty of the road condition. However if there are other cars in front of the road, it will be much easier to drive faster, since their tail lights indicate how the road twists and turns."
     ]
    },
    {
     "cell_type": "markdown",
     "metadata": {
      "slideshow": {
       "slide_type": "subslide"
      }
     },
     "source": [
      "The velocity function for night-time driving is\n",
      "\n",
      "$$\n",
      "v(\\rho)=\\left\\{\n",
      "  \\begin{array}{l l}\n",
      "   v_0 \\ \\ \\ \\text{if}\\ \\  \\rho<\\rho_a,\\\\\n",
      "   c\\rho \\ \\ \\ \\text{if}\\ \\ \\rho_a\\leq \\rho\\leq \\rho_b,\\\\\n",
      "   v_1(1-\\rho) \\ \\ \\ \\text{if}\\ \\ \\rho>\\rho_b,\n",
      "  \\end{array} \\right.\n",
      "$$\n",
      "\n",
      "Hence,\n",
      "\n",
      "$$\n",
      "f(\\rho)=\\left\\{\n",
      "  \\begin{array}{l l}\n",
      "   v_0\\rho \\ \\ \\ \\text{if}\\ \\  \\rho<\\rho_a,\\\\\n",
      "   c\\rho^2 \\ \\ \\ \\text{if}\\ \\ \\rho_a\\leq \\rho\\leq \\rho_b,\\\\\n",
      "   v_1\\rho(1-\\rho) \\ \\ \\ \\text{if}\\ \\ \\rho>\\rho_b,\n",
      "  \\end{array} \\right.\n",
      "$$"
     ]
    },
    {
     "cell_type": "heading",
     "level": 2,
     "metadata": {
      "slideshow": {
       "slide_type": "slide"
      }
     },
     "source": [
      "Clustering Behavior"
     ]
    },
    {
     "cell_type": "markdown",
     "metadata": {
      "slideshow": {
       "slide_type": "slide"
      }
     },
     "source": [
      "We take uniformly spaced cars as initial density on an otherwise empty road.\n",
      "\n",
      "In LeVeque's paper:\n",
      "\n",
      "\"The lead driver sees $\\rho=0$ and drives at speed $v_0$, and then the second driver initially sees $\\rho=\\rho_0$ and can drive faster. But as the second car accelerates, the third driver observes a drop in density and hence this driver starts to slow down. This causes the fourth driver to go faster.\" \n",
      "\n",
      "It has been proven that the uniformly spaced traffic with distance $\\frac{1}{\\rho_0}$ with speed $v(\\rho_0)$ is unstable under pertubations."
     ]
    },
    {
     "cell_type": "markdown",
     "metadata": {
      "slideshow": {
       "slide_type": "subslide"
      }
     },
     "source": [
      "#### Without Perturbation\n",
      "\n",
      "In the car-following model, the parameters are:\n",
      "$$\n",
      "\\rho_a=0.1,\\rho_b=0.3, c=10, v_0=1.\n",
      "$$"
     ]
    },
    {
     "cell_type": "code",
     "collapsed": true,
     "input": [
      "def vel_night(rho):\n",
      "    rhoa, rhob = 0.1, 0.3\n",
      "    v0, vmax = 1., 3.\n",
      "    v1 = vmax/(1.-rhob)\n",
      "    c = (vmax-v0)/(rhob-rhoa)\n",
      "    n = rho.size\n",
      "    v = zeros(n)\n",
      "    for i in range(n):\n",
      "        if rho[i] >= 0. and rho[i] < rhoa:\n",
      "            v[i] = v0\n",
      "        elif rho[i] >=rhoa and rho[i] <= rhob:\n",
      "            v[i] = c*rho[i]\n",
      "        elif rho[i] > rhob and rho[i] <= 1.:\n",
      "            v[i] = v1*(1.-rho[i])\n",
      "        else:\n",
      "            print \"Invalid density value!\"\n",
      "    return v"
     ],
     "language": "python",
     "metadata": {
      "slideshow": {
       "slide_type": "skip"
      }
     },
     "outputs": [],
     "prompt_number": null
    },
    {
     "cell_type": "code",
     "collapsed": true,
     "input": [
      "def ode_solver_night(N,tfinal,output_number,rhol,rhor):\n",
      "    from copy import copy\n",
      "    Dt = tfinal/output_number\n",
      "    dt = min(0.01,Dt)\n",
      "    x = zeros((output_number+1,N))\n",
      "    rho = copy(x)\n",
      "    x[0] = initialization(N,rhol,rhor)\n",
      "    rho[0][1:N+1] = -1./diff(x[0])\n",
      "    rho[0][0] = rhor\n",
      "    m = int(Dt/dt)\n",
      "    xs ,rhos = copy(x[0]), copy(rho[0])\n",
      "    for i in range(1,output_number+1):\n",
      "        for j in range(m):\n",
      "            v = vel_night(rhos)\n",
      "            xs = xs + v*dt\n",
      "            rhos[1:N+1] = -1./diff(xs)\n",
      "            rhos[0] = rhor\n",
      "        v = vel_night(rhos)\n",
      "        xs = xs + v*(Dt-dt*m)\n",
      "        rhos[1:N+1] = -1./diff(xs)\n",
      "        rhos[0] = rhor\n",
      "        x[i], rho[i] = copy(xs), copy(rhos)\n",
      "    return x, rho"
     ],
     "language": "python",
     "metadata": {
      "slideshow": {
       "slide_type": "skip"
      }
     },
     "outputs": [],
     "prompt_number": null
    },
    {
     "cell_type": "code",
     "collapsed": false,
     "input": [
      "N = 48\n",
      "tfinal = 80\n",
      "output_number = 80\n",
      "\n",
      "figure(figsize=(15,5))\n",
      "rhol = 1./5\n",
      "rhor = 0.\n",
      "subplot(1,3,1)\n",
      "x, rho = ode_solver_night(N,tfinal,output_number,rhol,rhor)\n",
      "for i in range(N):\n",
      "    plot(x.T[i],linspace(0.,tfinal,output_number+1),'b')\n",
      "axis([-200.,100.,0.,80.])\n",
      "title('rho$=1/5$')\n",
      "\n",
      "rhol = 1./4\n",
      "rhor = 0.\n",
      "subplot(1,3,2)\n",
      "x, rho = ode_solver_night(N,tfinal,output_number,rhol,rhor)\n",
      "for i in range(N):\n",
      "    plot(x.T[i],linspace(0.,tfinal,output_number+1),'b')\n",
      "axis([-200.,100.,0.,80.])\n",
      "title('rho$=1/4$')\n",
      "\n",
      "rhol = 1./3\n",
      "rhor = 0.\n",
      "subplot(1,3,3)\n",
      "x, rho = ode_solver_night(N,tfinal,output_number,rhol,rhor)\n",
      "for i in range(N):\n",
      "    plot(x.T[i],linspace(0.,tfinal,output_number+1),'b')\n",
      "axis([-200.,100.,0.,80.])\n",
      "title('rho$=1/3$')"
     ],
     "language": "python",
     "metadata": {
      "slideshow": {
       "slide_type": "fragment"
      }
     },
     "outputs": [],
     "prompt_number": null
    },
    {
     "cell_type": "markdown",
     "metadata": {
      "slideshow": {
       "slide_type": "slide"
      }
     },
     "source": [
      "#### With Perturbation\n",
      "\n",
      "With random perturbations to the speeds, 2-car platoons can no longer be observed. Instead, there are random n-car platoons, which is more reasonable to model the night-time traffic."
     ]
    },
    {
     "cell_type": "code",
     "collapsed": true,
     "input": [
      "def ode_solver_night_rand(N,tfinal,output_number,rhol,rhor):\n",
      "    from copy import copy\n",
      "    from numpy.random import rand\n",
      "    A = 0.1\n",
      "    Dt = tfinal/output_number\n",
      "    dt = 0.01\n",
      "    x = zeros((output_number+1,N))\n",
      "    rho = copy(x)\n",
      "    x[0] = initialization(N,rhol,rhor)\n",
      "    rho[0][1:N+1] = -1./diff(x[0])\n",
      "    rho[0][0] = rhor\n",
      "    m = int(Dt/dt)\n",
      "    xs ,rhos = copy(x[0]), copy(rho[0])\n",
      "    for i in range(1,output_number+1):\n",
      "        for j in range(m):\n",
      "            v = vel_night(rhos) + A*(rand(N)-0.5*ones(N))\n",
      "            xs = xs + v*dt\n",
      "            rhos[1:N+1] = -1./diff(xs)\n",
      "            rhos[0] = rhor\n",
      "        v = vel_night(rhos) + A*(rand(N)-0.5*ones(N))\n",
      "        xs = xs + v*(Dt-dt*m)\n",
      "        rhos[1:N+1] = -1./diff(xs)\n",
      "        rhos[0] = rhor\n",
      "        x[i], rho[i] = copy(xs), copy(rhos)\n",
      "    return x, rho"
     ],
     "language": "python",
     "metadata": {
      "slideshow": {
       "slide_type": "skip"
      }
     },
     "outputs": [],
     "prompt_number": null
    },
    {
     "cell_type": "code",
     "collapsed": false,
     "input": [
      "N = 48\n",
      "tfinal = 80\n",
      "output_number = 80\n",
      "\n",
      "figure(figsize=(15,5))\n",
      "rhol = 1./5\n",
      "rhor = 0.\n",
      "subplot(1,3,1)\n",
      "x, rho = ode_solver_night_rand(N,tfinal,output_number,rhol,rhor)\n",
      "for i in range(N):\n",
      "    plot(x.T[i],linspace(0.,tfinal,output_number+1),'b')\n",
      "axis([-200.,100.,0.,80.])\n",
      "title('rho$=1/5$')\n",
      "\n",
      "rhol = 1./4\n",
      "rhor = 0.\n",
      "subplot(1,3,2)\n",
      "x, rho = ode_solver_night_rand(N,tfinal,output_number,rhol,rhor)\n",
      "for i in range(N):\n",
      "    plot(x.T[i],linspace(0.,tfinal,output_number+1),'b')\n",
      "axis([-200.,100.,0.,80.])\n",
      "title('rho$=1/4$')\n",
      "\n",
      "rhol = 1./3\n",
      "rhor = 0.\n",
      "subplot(1,3,3)\n",
      "x, rho = ode_solver_night_rand(N,tfinal,output_number,rhol,rhor)\n",
      "for i in range(N):\n",
      "    plot(x.T[i],linspace(0.,tfinal,output_number+1),'b')\n",
      "axis([-200.,100.,0.,80.])\n",
      "title('rho$=1/3$')"
     ],
     "language": "python",
     "metadata": {
      "slideshow": {
       "slide_type": "fragment"
      }
     },
     "outputs": [],
     "prompt_number": null
    },
    {
     "cell_type": "markdown",
     "metadata": {
      "slideshow": {
       "slide_type": "slide"
      }
     },
     "source": [
      "## Reference\n",
      "\n",
      "\n",
      "- LeVeque, R. J. (2001). Some traffic flow models illustrating interesting hyperbolic behavior. Minisymposium on traffic flow, Chicago.\n",
      "- Wiens, J. K., Stockie, J. M., Williams, J. F. (2013). Riemann solver for a kinematic wave traffic model with discontinuous flux. Journal of Computational Physics, 242, 1-23.\n",
      "- Jiang, R., Wu, Q. S. (2007). The night driving behavior in a car-following model. Physica A: Statistical Mechanics and its Applications, 375(1), 297-306.\n",
      "- Dias, J. P., & Figueira, M. (2005). On the approximation of the solutions of the Riemann problem for a discontinuous conservation law. Bulletin of the Brazilian Mathematical Society, 36(1), 115-125.\n",
      "- Zhang, H. M. (2003). Anisotropic property revisited\u2013\u2013does it hold in multi-lane traffic. Transportation Research Part B: Methodological, 37(6), 561-577.\n"
     ]
    },
    {
     "cell_type": "code",
     "collapsed": true,
     "input": [],
     "language": "python",
     "metadata": {},
     "outputs": [],
     "prompt_number": null
    }
   ],
   "metadata": {}
  }
 ]
}